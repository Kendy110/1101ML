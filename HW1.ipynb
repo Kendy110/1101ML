{
 "cells": [
  {
   "cell_type": "code",
   "execution_count": 5,
   "id": "4cc2733c",
   "metadata": {},
   "outputs": [
    {
     "name": "stdout",
     "output_type": "stream",
     "text": [
      "球體半徑?6\n",
      "球體體積是 904.7786842338604\n",
      "球體面積是 452.3893421169302\n"
     ]
    }
   ],
   "source": [
    "def aa():\n",
    "    import math\n",
    "    p=math.pi\n",
    "    r=eval(input(\"球體半徑?\"))\n",
    "    v=4/3*r*r*r*p\n",
    "    a=4*p*r*r\n",
    "    print(\"球體體積是\", v)\n",
    "    print(\"球體面積是\", a)\n",
    "aa()"
   ]
  },
  {
   "cell_type": "code",
   "execution_count": 12,
   "id": "831a9308",
   "metadata": {},
   "outputs": [
    {
     "name": "stdout",
     "output_type": "stream",
     "text": [
      "牆壁高度?3\n",
      "梯子與地面的角度?30\n",
      "梯子長度是 6.000000000000001\n"
     ]
    }
   ],
   "source": [
    "def bb():\n",
    "    import math\n",
    "    a=eval(input(\"牆壁高度?\"))\n",
    "    e=eval(input(\"梯子與地面的角度?\"))\n",
    "    h=a/math.sin(e*math.pi/180)\n",
    "    print(\"梯子長度是\", h)\n",
    "    \n",
    "bb()"
   ]
  },
  {
   "cell_type": "code",
   "execution_count": 28,
   "id": "063a1101",
   "metadata": {
    "scrolled": true
   },
   "outputs": [
    {
     "name": "stdout",
     "output_type": "stream",
     "text": [
      "你要計算幾個項目?5555555\n",
      "pi的近似值 3.1415928335897867\n"
     ]
    }
   ],
   "source": [
    "def cc():\n",
    "    import math\n",
    "    a=eval(input(\"你要計算幾個項目?\"))\n",
    "    h=0\n",
    "    for i in range(0,a,1):\n",
    "     h = 4*math.pow(-1,i)/(2*i+1)+h\n",
    "    print(\"pi的近似值\", h)\n",
    "    \n",
    "cc()"
   ]
  },
  {
   "cell_type": "code",
   "execution_count": 30,
   "id": "33449ad1",
   "metadata": {},
   "outputs": [
    {
     "name": "stdout",
     "output_type": "stream",
     "text": [
      "The program computes the average of three exam scores.\n",
      "Enter two scores separated by a comma:100,20,60\n",
      "The average of the scores is: 60.0\n"
     ]
    }
   ],
   "source": [
    "def avg3():\n",
    "    print(\"The program computes the average of three exam scores.\")\n",
    "    score1, score2, score3=eval(input(\"Enter two scores separated by a comma:\"))\n",
    "    average=(score1+score2+score3)/3\n",
    "    print(\"The average of the scores is:\", average)\n",
    "avg3()"
   ]
  },
  {
   "cell_type": "code",
   "execution_count": 19,
   "id": "fc0e631a",
   "metadata": {},
   "outputs": [
    {
     "name": "stdout",
     "output_type": "stream",
     "text": [
      "輸入你的攝氏溫度?35.2\n",
      "你的華氏溫度為 95.36 度\n",
      "輸入你的攝氏溫度?100\n",
      "你的華氏溫度為 212.00 度\n",
      "輸入你的攝氏溫度?-25\n",
      "你的華氏溫度為 -13.00 度\n",
      "輸入你的攝氏溫度?0\n",
      "你的華氏溫度為 32.00 度\n",
      "輸入你的攝氏溫度?6.32153\n",
      "你的華氏溫度為 43.38 度\n"
     ]
    }
   ],
   "source": [
    "def convert():\n",
    "    for i in range(5):\n",
    "     celsius=eval(input(\"輸入你的攝氏溫度?\"))\n",
    "     fahrenheit=9/5*celsius+32\n",
    "     print(\"你的華氏溫度為\",  \"{:.2f}\".format(fahrenheit),\"度\")\n",
    "convert()"
   ]
  },
  {
   "cell_type": "code",
   "execution_count": 18,
   "id": "58782c0d",
   "metadata": {},
   "outputs": [
    {
     "name": "stdout",
     "output_type": "stream",
     "text": [
      "The program calculates the future value of a year investment.\n",
      "輸入你的初始價值:100\n",
      "輸入你的利率:0.001\n",
      "輸入你的年份:10\n",
      "未來價值是: 100.904\n"
     ]
    }
   ],
   "source": [
    "def futval1():\n",
    "    print(\"The program calculates the future value of a year investment.\")\n",
    "    principal=eval(input(\"輸入你的初始價值:\"))\n",
    "    apr=eval(input(\"輸入你的利率:\"))\n",
    "    yar=eval(input(\"輸入你的年份:\"))\n",
    "    for i in range(1,yar,1):\n",
    "        principal=principal*(1+apr)\n",
    "    print(\"未來價值是:\", \"{:.3f}\".format(principal)\"{:.3f}\".format(principal))\n",
    "futval1()"
   ]
  },
  {
   "cell_type": "code",
   "execution_count": 38,
   "id": "796d29eb",
   "metadata": {},
   "outputs": [
    {
     "name": "stdout",
     "output_type": "stream",
     "text": [
      "輸入第一個數:80844\n",
      "輸入第二個數:25320\n",
      "這兩個數的最大公因數是: 12\n"
     ]
    }
   ],
   "source": [
    "def dd():\n",
    " a = eval(input(\"輸入第一個數:\"))\n",
    " b = eval(input(\"輸入第二個數:\"))\n",
    " m = a % b\n",
    " while (m > 0):\n",
    "        a = b\n",
    "        b = m\n",
    "        m = a % b\n",
    " print(\"這兩個數的最大公因數是:\",b)\n",
    "dd()"
   ]
  },
  {
   "cell_type": "code",
   "execution_count": 10,
   "id": "6fe15c49",
   "metadata": {},
   "outputs": [
    {
     "name": "stdout",
     "output_type": "stream",
     "text": [
      "請輸入數值計算表示式5+3\n",
      "計算值為: 8\n",
      "請輸入數值計算表示式56-5\n",
      "計算值為: 51\n",
      "請輸入數值計算表示式sss\n"
     ]
    },
    {
     "ename": "NameError",
     "evalue": "name 'sss' is not defined",
     "output_type": "error",
     "traceback": [
      "\u001b[1;31m---------------------------------------------------------------------------\u001b[0m",
      "\u001b[1;31mNameError\u001b[0m                                 Traceback (most recent call last)",
      "\u001b[1;32m<ipython-input-10-01d957cef9f1>\u001b[0m in \u001b[0;36m<module>\u001b[1;34m\u001b[0m\n\u001b[0;32m      6\u001b[0m   \u001b[0mprint\u001b[0m\u001b[1;33m(\u001b[0m\u001b[1;34m\"計算值為:\"\u001b[0m\u001b[1;33m,\u001b[0m \u001b[0ma\u001b[0m\u001b[1;33m)\u001b[0m\u001b[1;33m\u001b[0m\u001b[1;33m\u001b[0m\u001b[0m\n\u001b[0;32m      7\u001b[0m \u001b[1;33m\u001b[0m\u001b[0m\n\u001b[1;32m----> 8\u001b[1;33m \u001b[0mee\u001b[0m\u001b[1;33m(\u001b[0m\u001b[1;33m)\u001b[0m\u001b[1;33m\u001b[0m\u001b[1;33m\u001b[0m\u001b[0m\n\u001b[0m",
      "\u001b[1;32m<ipython-input-10-01d957cef9f1>\u001b[0m in \u001b[0;36mee\u001b[1;34m()\u001b[0m\n\u001b[0;32m      3\u001b[0m  \u001b[1;32mwhile\u001b[0m\u001b[1;33m(\u001b[0m\u001b[0mb\u001b[0m \u001b[1;33m>\u001b[0m \u001b[1;36m1\u001b[0m\u001b[1;33m)\u001b[0m\u001b[1;33m:\u001b[0m\u001b[1;33m\u001b[0m\u001b[1;33m\u001b[0m\u001b[0m\n\u001b[0;32m      4\u001b[0m \u001b[1;33m\u001b[0m\u001b[0m\n\u001b[1;32m----> 5\u001b[1;33m   \u001b[0ma\u001b[0m \u001b[1;33m=\u001b[0m \u001b[0meval\u001b[0m\u001b[1;33m(\u001b[0m\u001b[0minput\u001b[0m\u001b[1;33m(\u001b[0m\u001b[1;34m\"請輸入數值計算表示式\"\u001b[0m\u001b[1;33m)\u001b[0m\u001b[1;33m)\u001b[0m\u001b[1;33m\u001b[0m\u001b[1;33m\u001b[0m\u001b[0m\n\u001b[0m\u001b[0;32m      6\u001b[0m   \u001b[0mprint\u001b[0m\u001b[1;33m(\u001b[0m\u001b[1;34m\"計算值為:\"\u001b[0m\u001b[1;33m,\u001b[0m \u001b[0ma\u001b[0m\u001b[1;33m)\u001b[0m\u001b[1;33m\u001b[0m\u001b[1;33m\u001b[0m\u001b[0m\n\u001b[0;32m      7\u001b[0m \u001b[1;33m\u001b[0m\u001b[0m\n",
      "\u001b[1;32m<string>\u001b[0m in \u001b[0;36m<module>\u001b[1;34m\u001b[0m\n",
      "\u001b[1;31mNameError\u001b[0m: name 'sss' is not defined"
     ]
    }
   ],
   "source": [
    " def ee():\n",
    "  b=2\n",
    "  while(b > 1):\n",
    "\n",
    "   a = eval(input(\"請輸入數值計算表示式\"))\n",
    "   print(\"計算值為:\", a)\n",
    "    \n",
    "ee()"
   ]
  },
  {
   "cell_type": "code",
   "execution_count": 12,
   "id": "a5da8530",
   "metadata": {},
   "outputs": [
    {
     "name": "stdout",
     "output_type": "stream",
     "text": [
      "請輸入你的分數55+6\n",
      "D\n"
     ]
    }
   ],
   "source": [
    "a=eval(input(\"請輸入你的分數\"))\n",
    "if a>=90:\n",
    "       print(\"A\")\n",
    "elif  90>a>=80:\n",
    "       print(\"B\")\n",
    "elif 80>a>=70:\n",
    "       print(\"C\")\n",
    "elif 70>a>=60:\n",
    "       print(\"D\")\n",
    "elif a<60:\n",
    "       print(\"E\")"
   ]
  },
  {
   "cell_type": "code",
   "execution_count": 17,
   "id": "bf0a7279",
   "metadata": {},
   "outputs": [
    {
     "name": "stdout",
     "output_type": "stream",
     "text": [
      "請輸入你的月薪10000\n",
      "請輸入你的西元工作年份2000\n",
      "2000 年你獲得 120000 元薪資\n",
      "你的日薪約為 327.869 你的日薪約為元\n"
     ]
    }
   ],
   "source": [
    "a = eval(input(\"請輸入你的月薪\"))\n",
    "b = eval(input(\"請輸入你的西元工作年份\"))\n",
    "c = a*12\n",
    "print(b,\"年你獲得\",c,\"元薪資\")\n",
    "d=b%4\n",
    "if d > 0:\n",
    "    e=c/365\n",
    "else:\n",
    "    e=c/366\n",
    "\n",
    "print(\"你的日薪約為\",\"{:.3f}\".format(e),\"你的日薪約為元\")\n",
    "\n",
    "\n",
    "\n"
   ]
  },
  {
   "cell_type": "code",
   "execution_count": 6,
   "id": "b68bef7b",
   "metadata": {},
   "outputs": [
    {
     "name": "stdout",
     "output_type": "stream",
     "text": [
      "1 乘以 1 等於 1\n",
      "1 乘以 2 等於 2\n",
      "1 乘以 3 等於 3\n",
      "1 乘以 4 等於 4\n",
      "1 乘以 5 等於 5\n",
      "1 乘以 6 等於 6\n",
      "1 乘以 7 等於 7\n",
      "1 乘以 8 等於 8\n",
      "1 乘以 9 等於 9\n",
      "2 乘以 1 等於 2\n",
      "2 乘以 2 等於 4\n",
      "2 乘以 3 等於 6\n",
      "2 乘以 4 等於 8\n",
      "2 乘以 5 等於 10\n",
      "2 乘以 6 等於 12\n",
      "2 乘以 7 等於 14\n",
      "2 乘以 8 等於 16\n",
      "2 乘以 9 等於 18\n",
      "3 乘以 1 等於 3\n",
      "3 乘以 2 等於 6\n",
      "3 乘以 3 等於 9\n",
      "3 乘以 4 等於 12\n",
      "3 乘以 5 等於 15\n",
      "3 乘以 6 等於 18\n",
      "3 乘以 7 等於 21\n",
      "3 乘以 8 等於 24\n",
      "3 乘以 9 等於 27\n",
      "4 乘以 1 等於 4\n",
      "4 乘以 2 等於 8\n",
      "4 乘以 3 等於 12\n",
      "4 乘以 4 等於 16\n",
      "4 乘以 5 等於 20\n",
      "4 乘以 6 等於 24\n",
      "4 乘以 7 等於 28\n",
      "4 乘以 8 等於 32\n",
      "4 乘以 9 等於 36\n",
      "5 乘以 1 等於 5\n",
      "5 乘以 2 等於 10\n",
      "5 乘以 3 等於 15\n",
      "5 乘以 4 等於 20\n",
      "5 乘以 5 等於 25\n",
      "5 乘以 6 等於 30\n",
      "5 乘以 7 等於 35\n",
      "5 乘以 8 等於 40\n",
      "5 乘以 9 等於 45\n",
      "6 乘以 1 等於 6\n",
      "6 乘以 2 等於 12\n",
      "6 乘以 3 等於 18\n",
      "6 乘以 4 等於 24\n",
      "6 乘以 5 等於 30\n",
      "6 乘以 6 等於 36\n",
      "6 乘以 7 等於 42\n",
      "6 乘以 8 等於 48\n",
      "6 乘以 9 等於 54\n",
      "7 乘以 1 等於 7\n",
      "7 乘以 2 等於 14\n",
      "7 乘以 3 等於 21\n",
      "7 乘以 4 等於 28\n",
      "7 乘以 5 等於 35\n",
      "7 乘以 6 等於 42\n",
      "7 乘以 7 等於 49\n",
      "7 乘以 8 等於 56\n",
      "7 乘以 9 等於 63\n",
      "8 乘以 1 等於 8\n",
      "8 乘以 2 等於 16\n",
      "8 乘以 3 等於 24\n",
      "8 乘以 4 等於 32\n",
      "8 乘以 5 等於 40\n",
      "8 乘以 6 等於 48\n",
      "8 乘以 7 等於 56\n",
      "8 乘以 8 等於 64\n",
      "8 乘以 9 等於 72\n",
      "9 乘以 1 等於 9\n",
      "9 乘以 2 等於 18\n",
      "9 乘以 3 等於 27\n",
      "9 乘以 4 等於 36\n",
      "9 乘以 5 等於 45\n",
      "9 乘以 6 等於 54\n",
      "9 乘以 7 等於 63\n",
      "9 乘以 8 等於 72\n",
      "9 乘以 9 等於 81\n"
     ]
    }
   ],
   "source": [
    "def ff():\n",
    "    for i in range(1,10,1):\n",
    "     for j in range(1,10,1):\n",
    "      a=i*j\n",
    "      print(i,\"乘以\",j,\"等於\",a)\n",
    "ff()"
   ]
  },
  {
   "cell_type": "code",
   "execution_count": null,
   "id": "93e5e1b2",
   "metadata": {},
   "outputs": [],
   "source": []
  },
  {
   "cell_type": "code",
   "execution_count": null,
   "id": "8d92285b",
   "metadata": {},
   "outputs": [],
   "source": []
  },
  {
   "cell_type": "code",
   "execution_count": null,
   "id": "e3131c63",
   "metadata": {},
   "outputs": [],
   "source": []
  },
  {
   "cell_type": "code",
   "execution_count": null,
   "id": "c9a92cf6",
   "metadata": {},
   "outputs": [],
   "source": []
  }
 ],
 "metadata": {
  "kernelspec": {
   "display_name": "Python 3",
   "language": "python",
   "name": "python3"
  },
  "language_info": {
   "codemirror_mode": {
    "name": "ipython",
    "version": 3
   },
   "file_extension": ".py",
   "mimetype": "text/x-python",
   "name": "python",
   "nbconvert_exporter": "python",
   "pygments_lexer": "ipython3",
   "version": "3.8.8"
  }
 },
 "nbformat": 4,
 "nbformat_minor": 5
}
